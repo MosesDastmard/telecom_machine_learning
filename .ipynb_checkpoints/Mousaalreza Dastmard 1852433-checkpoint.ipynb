{
 "cells": [
  {
   "cell_type": "markdown",
   "metadata": {},
   "source": [
    "## Reading and Processing Data"
   ]
  },
  {
   "cell_type": "code",
   "execution_count": 145,
   "metadata": {},
   "outputs": [
    {
     "name": "stdout",
     "output_type": "stream",
     "text": [
      "There is 0 NAN in dataset\n",
      "There is 0 NULL in dataset\n",
      "Shape of data before categorial transformation is: (8792, 26)\n",
      "Shape of data after categorial transformation is: (8792, 44)\n"
     ]
    },
    {
     "data": {
      "text/plain": [
       "count    8792.000000\n",
       "mean        0.381142\n",
       "Name: status, dtype: float64"
      ]
     },
     "execution_count": 145,
     "metadata": {},
     "output_type": "execute_result"
    }
   ],
   "source": [
    "import pandas as pd\n",
    "df = pd.read_csv('telekom.csv')\n",
    "# Check for missing values, there is no missing values!!\n",
    "print('There is', df.isna().sum().sum(), 'NAN in dataset')\n",
    "print('There is', df.isnull().sum().sum(), 'NULL in dataset')\n",
    "print('Shape of data before categorial transformation is:', df.shape)\n",
    "# Random Forest and Gradian boosting can handle categorical varibale without\n",
    "# the need of transforming them to dummy variables, but for neural net it is essential to\n",
    "# do the transformation for both categorical varibles and normalizing\n",
    "cat_vars = ['piano_tariff', 'metodo_pagamento', 'sesso', 'zona_attivaz', 'canale_attivaz']\n",
    "df_dum = pd.get_dummies(data = df, columns = cat_vars)\n",
    "print('Shape of data after categorial transformation is:', df_dum.shape)\n",
    "df['status'].describe()[['count', 'mean']]\n",
    "# 38% of the sample fall in class 1, so we are dealing with an almost balanced dataset "
   ]
  },
  {
   "cell_type": "markdown",
   "metadata": {},
   "source": [
    "## Import Classifiers and metrics"
   ]
  },
  {
   "cell_type": "code",
   "execution_count": 116,
   "metadata": {},
   "outputs": [],
   "source": [
    "from sklearn.ensemble import RandomForestClassifier, GradientBoostingClassifier\n",
    "from sklearn.neural_network import MLPClassifier\n",
    "from sklearn.model_selection import train_test_split\n",
    "from sklearn.metrics import auc, roc_curve, confusion_matrix, roc_auc_score\n",
    "from sklearn import metrics\n",
    "from sklearn import preprocessing\n",
    "import matplotlib.pyplot as plt"
   ]
  },
  {
   "cell_type": "markdown",
   "metadata": {},
   "source": [
    "## Train/Test Split"
   ]
  },
  {
   "cell_type": "code",
   "execution_count": 48,
   "metadata": {},
   "outputs": [],
   "source": [
    "# Predictor variables for data set without dummies\n",
    "X = df.iloc[:,2:]\n",
    "# Predictor variables for data set with dummies\n",
    "X_d = df_dum.iloc[:,2:]\n",
    "# Target Varibales\n",
    "Y = df.iloc[:,1]\n",
    "# In order to keep the reproducibility for each model the original dataset and the one including dummy variables \n",
    "# the random seed set to 123\n",
    "X_train, X_test, Y_train, Y_test = train_test_split(X, Y, train_size=.7, random_state=123)\n",
    "X_train_d, X_test_d, Y_train_d, Y_test_d = train_test_split(X_d, Y, train_size=.7, random_state=123)"
   ]
  },
  {
   "cell_type": "markdown",
   "metadata": {},
   "source": [
    "## Function Producing Results"
   ]
  },
  {
   "cell_type": "code",
   "execution_count": 112,
   "metadata": {},
   "outputs": [],
   "source": [
    "# The function print confuison matrix for test and train, auc also printed on ROC curve\n",
    "def get_results(model, model_name, X_train, Y_train, X_test, Y_test):\n",
    "    y_pred = model.predict(X_train)\n",
    "    print(model_name, ':Confusion matrix for train')\n",
    "    print(confusion_matrix(Y_train, y_pred))\n",
    "    y_pred = model.predict(X_test)\n",
    "    print(model_name, ':Confusion matrix for test')\n",
    "    print(confusion_matrix(Y_test, y_pred))\n",
    "    print(\"---- summary report ----\")\n",
    "    print(metrics.classification_report(Y_test, y_pred))\n",
    "    y_prob = model.predict_proba(X_test)\n",
    "    roc_auc_score(Y_test, y_prob[:,1])\n",
    "    fpr_ts, tpr_ts, _ = roc_curve(Y_test, y_prob[:,1])\n",
    "    roc_auc_ts = auc(fpr_ts, tpr_ts)\n",
    "    # AUC on train\n",
    "    y_prob = model.predict_proba(X_train)\n",
    "    roc_auc_score(Y_train, y_prob[:,1])\n",
    "    fpr_tr, tpr_tr, _ = roc_curve(Y_train, y_prob[:,1])\n",
    "    roc_auc_tr = auc(fpr_tr, tpr_tr)\n",
    "    plt.figure()\n",
    "    lw = 2\n",
    "    plt.plot(fpr_ts, tpr_ts, color='darkorange',\n",
    "             lw=lw, label='AUC test = %0.2f)' % roc_auc_ts)\n",
    "    plt.plot(fpr_tr, tpr_tr, color='grey',\n",
    "             lw=lw, label='AUC train= %0.2f)' % roc_auc_tr)\n",
    "    plt.plot([0, 1], [0, 1], color='navy', lw=lw, linestyle='--')\n",
    "    plt.xlim([0.0, 1.0])\n",
    "    plt.ylim([0.0, 1.05])\n",
    "    plt.xlabel('False Positive Rate')\n",
    "    plt.ylabel('True Positive Rate')\n",
    "    plt.title(model_name)\n",
    "    plt.legend(loc=\"lower right\")\n",
    "    plt.show()"
   ]
  },
  {
   "cell_type": "markdown",
   "metadata": {},
   "source": [
    "## Random Forest"
   ]
  },
  {
   "cell_type": "code",
   "execution_count": 131,
   "metadata": {},
   "outputs": [
    {
     "data": {
      "text/plain": [
       "RandomForestClassifier(bootstrap=True, class_weight=None, criterion='gini',\n",
       "                       max_depth=None, max_features='auto', max_leaf_nodes=None,\n",
       "                       min_impurity_decrease=0.0, min_impurity_split=None,\n",
       "                       min_samples_leaf=1, min_samples_split=2,\n",
       "                       min_weight_fraction_leaf=0.0, n_estimators=500,\n",
       "                       n_jobs=None, oob_score=True, random_state=None,\n",
       "                       verbose=0, warm_start=False)"
      ]
     },
     "execution_count": 131,
     "metadata": {},
     "output_type": "execute_result"
    }
   ],
   "source": [
    "# Random Forest settings\n",
    "rf = RandomForestClassifier(bootstrap=True, class_weight=None, criterion='gini',\n",
    "                       max_depth=None, max_features='auto', max_leaf_nodes=None,\n",
    "                       min_impurity_decrease=0.0, min_impurity_split=None,\n",
    "                       min_samples_leaf=1, min_samples_split=2,\n",
    "                       min_weight_fraction_leaf=0.0, n_estimators=500,\n",
    "                       n_jobs=None, oob_score=True, random_state=None,\n",
    "                       verbose=0, warm_start=False)\n",
    "rf.fit(X_train, Y_train)"
   ]
  },
  {
   "cell_type": "code",
   "execution_count": 132,
   "metadata": {},
   "outputs": [
    {
     "name": "stdout",
     "output_type": "stream",
     "text": [
      "Random Forest :Confusion matrix for train\n",
      "[[3823    0]\n",
      " [   0 2331]]\n",
      "Random Forest :Confusion matrix for test\n",
      "[[1526   92]\n",
      " [  82  938]]\n",
      "---- summary report ----\n",
      "              precision    recall  f1-score   support\n",
      "\n",
      "           0       0.95      0.94      0.95      1618\n",
      "           1       0.91      0.92      0.92      1020\n",
      "\n",
      "    accuracy                           0.93      2638\n",
      "   macro avg       0.93      0.93      0.93      2638\n",
      "weighted avg       0.93      0.93      0.93      2638\n",
      "\n"
     ]
    },
    {
     "data": {
      "image/png": "[encoded data removed]",
      "text/plain": [
       "<Figure size 432x288 with 1 Axes>"
      ]
     },
     "metadata": {
      "needs_background": "light"
     },
     "output_type": "display_data"
    }
   ],
   "source": [
    "get_results(rf, 'Random Forest', X_train, Y_train, X_test, Y_test)"
   ]
  },
  {
   "cell_type": "code",
   "execution_count": 136,
   "metadata": {},
   "outputs": [
    {
     "name": "stdout",
     "output_type": "stream",
     "text": [
      "Random Forest :Confusion matrix for train\n",
      "[[3751   72]\n",
      " [  80 2251]]\n",
      "Random Forest :Confusion matrix for test\n",
      "[[1511  107]\n",
      " [  88  932]]\n",
      "---- summary report ----\n",
      "              precision    recall  f1-score   support\n",
      "\n",
      "           0       0.94      0.93      0.94      1618\n",
      "           1       0.90      0.91      0.91      1020\n",
      "\n",
      "    accuracy                           0.93      2638\n",
      "   macro avg       0.92      0.92      0.92      2638\n",
      "weighted avg       0.93      0.93      0.93      2638\n",
      "\n"
     ]
    },
    {
     "data": {
      "image/png": "[encoded data removed]",
      "text/plain": [
       "<Figure size 432x288 with 1 Axes>"
      ]
     },
     "metadata": {
      "needs_background": "light"
     },
     "output_type": "display_data"
    }
   ],
   "source": [
    "# Random Forest settings\n",
    "rf = RandomForestClassifier(bootstrap=True, class_weight=None, criterion='gini',\n",
    "                       max_depth=None, max_features='auto', max_leaf_nodes=None,\n",
    "                       min_impurity_decrease=0.0, min_impurity_split=None,\n",
    "                       min_samples_leaf=4, min_samples_split=2,\n",
    "                       min_weight_fraction_leaf=0.0, n_estimators=500,\n",
    "                       n_jobs=None, oob_score=True, random_state=None,\n",
    "                       verbose=0, warm_start=False)\n",
    "rf.fit(X_train, Y_train)\n",
    "get_results(rf, 'Random Forest', X_train, Y_train, X_test, Y_test)"
   ]
  },
  {
   "cell_type": "markdown",
   "metadata": {},
   "source": [
    "## Gradian Boosting"
   ]
  },
  {
   "cell_type": "code",
   "execution_count": 86,
   "metadata": {},
   "outputs": [
    {
     "data": {
      "text/plain": [
       "GradientBoostingClassifier(criterion='friedman_mse', init=None,\n",
       "                           learning_rate=0.1, loss='deviance', max_depth=2,\n",
       "                           max_features=None, max_leaf_nodes=None,\n",
       "                           min_impurity_decrease=0.0, min_impurity_split=None,\n",
       "                           min_samples_leaf=1, min_samples_split=2,\n",
       "                           min_weight_fraction_leaf=0.0, n_estimators=500,\n",
       "                           n_iter_no_change=None, presort='auto',\n",
       "                           random_state=None, subsample=1.0, tol=0.0001,\n",
       "                           validation_fraction=0.1, verbose=0,\n",
       "                           warm_start=False)"
      ]
     },
     "execution_count": 86,
     "metadata": {},
     "output_type": "execute_result"
    }
   ],
   "source": [
    "# Gradian boosting model\n",
    "gb = GradientBoostingClassifier(criterion='friedman_mse', init=None,\n",
    "                           learning_rate=0.1, loss='deviance', max_depth=2,\n",
    "                           max_features=None, max_leaf_nodes=None,\n",
    "                           min_impurity_decrease=0.0, min_impurity_split=None,\n",
    "                           min_samples_leaf=1, min_samples_split=2,\n",
    "                           min_weight_fraction_leaf=0.0, n_estimators=500,\n",
    "                           n_iter_no_change=None, presort='auto',\n",
    "                           random_state=None, subsample=1.0, tol=0.0001,\n",
    "                           validation_fraction=0.1, verbose=0,\n",
    "                           warm_start=False)\n",
    "gb.fit(X_train, Y_train)"
   ]
  },
  {
   "cell_type": "code",
   "execution_count": 114,
   "metadata": {},
   "outputs": [
    {
     "name": "stdout",
     "output_type": "stream",
     "text": [
      "Gradian Boosting :Confusion matrix for train\n",
      "[[3784   39]\n",
      " [   9 2322]]\n",
      "Gradian Boosting :Confusion matrix for test\n",
      "[[1566   52]\n",
      " [  19 1001]]\n",
      "---- summary report ----\n",
      "              precision    recall  f1-score   support\n",
      "\n",
      "           0       0.99      0.97      0.98      1618\n",
      "           1       0.95      0.98      0.97      1020\n",
      "\n",
      "    accuracy                           0.97      2638\n",
      "   macro avg       0.97      0.97      0.97      2638\n",
      "weighted avg       0.97      0.97      0.97      2638\n",
      "\n"
     ]
    },
    {
     "data": {
      "image/png": "[encoded data removed]",
      "text/plain": [
       "<Figure size 432x288 with 1 Axes>"
      ]
     },
     "metadata": {
      "needs_background": "light"
     },
     "output_type": "display_data"
    }
   ],
   "source": [
    "get_results(gb, 'Gradian Boosting', X_train, Y_train, X_test, Y_test)"
   ]
  },
  {
   "cell_type": "markdown",
   "metadata": {},
   "source": [
    "## Multilayer Perceptron Neural Net"
   ]
  },
  {
   "cell_type": "code",
   "execution_count": 118,
   "metadata": {},
   "outputs": [],
   "source": [
    "# for the neural net it is important to standardize the variables\n",
    "scaler = preprocessing.StandardScaler().fit(X_train_d)\n",
    "X_train_s = scaler.transform(X_train_d)\n",
    "X_test_s = scaler.transform(X_test_d)"
   ]
  },
  {
   "cell_type": "code",
   "execution_count": 120,
   "metadata": {},
   "outputs": [
    {
     "name": "stdout",
     "output_type": "stream",
     "text": [
      "Iteration 1, loss = 0.40985848\n",
      "Iteration 2, loss = 0.17930469\n",
      "Iteration 3, loss = 0.12257722\n",
      "Iteration 4, loss = 0.09798065\n",
      "Iteration 5, loss = 0.07858326\n",
      "Iteration 6, loss = 0.06203182\n",
      "Iteration 7, loss = 0.05165420\n",
      "Iteration 8, loss = 0.04363354\n",
      "Iteration 9, loss = 0.03719363\n",
      "Iteration 10, loss = 0.03462054\n",
      "Iteration 11, loss = 0.02894681\n",
      "Iteration 12, loss = 0.02559667\n",
      "Iteration 13, loss = 0.02175530\n",
      "Iteration 14, loss = 0.01921939\n",
      "Iteration 15, loss = 0.01752369\n",
      "Iteration 16, loss = 0.01788798\n",
      "Iteration 17, loss = 0.02153962\n",
      "Iteration 18, loss = 0.02125854\n",
      "Iteration 19, loss = 0.02942332\n",
      "Iteration 20, loss = 0.03267840\n",
      "Iteration 21, loss = 0.02079640\n",
      "Iteration 22, loss = 0.01580070\n",
      "Iteration 23, loss = 0.01048932\n",
      "Iteration 24, loss = 0.01025326\n",
      "Iteration 25, loss = 0.00880554\n",
      "Iteration 26, loss = 0.00746759\n",
      "Iteration 27, loss = 0.00674258\n",
      "Iteration 28, loss = 0.00588288\n",
      "Iteration 29, loss = 0.00482637\n",
      "Iteration 30, loss = 0.00422273\n",
      "Iteration 31, loss = 0.00516231\n",
      "Iteration 32, loss = 0.00492880\n",
      "Iteration 33, loss = 0.00449999\n",
      "Iteration 34, loss = 0.00448191\n",
      "Iteration 35, loss = 0.00541089\n",
      "Iteration 36, loss = 0.00391176\n",
      "Iteration 37, loss = 0.00378432\n",
      "Iteration 38, loss = 0.00724222\n",
      "Iteration 39, loss = 0.00295156\n",
      "Iteration 40, loss = 0.00225087\n",
      "Iteration 41, loss = 0.00212147\n",
      "Iteration 42, loss = 0.00232089\n",
      "Iteration 43, loss = 0.00224091\n",
      "Iteration 44, loss = 0.00238791\n",
      "Iteration 45, loss = 0.00241842\n",
      "Iteration 46, loss = 0.00356820\n",
      "Iteration 47, loss = 0.00789025\n",
      "Iteration 48, loss = 0.00643457\n",
      "Iteration 49, loss = 0.00226314\n",
      "Iteration 50, loss = 0.00198548\n",
      "Iteration 51, loss = 0.00236417\n",
      "Iteration 52, loss = 0.00244558\n",
      "Iteration 53, loss = 0.00623359\n",
      "Iteration 54, loss = 0.00988084\n",
      "Iteration 55, loss = 0.01402792\n",
      "Iteration 56, loss = 0.01726900\n",
      "Iteration 57, loss = 0.01329652\n",
      "Iteration 58, loss = 0.01343788\n",
      "Iteration 59, loss = 0.00614801\n",
      "Iteration 60, loss = 0.00831944\n",
      "Iteration 61, loss = 0.00694305\n",
      "Iteration 62, loss = 0.00577790\n",
      "Iteration 63, loss = 0.00348740\n",
      "Iteration 64, loss = 0.00447896\n",
      "Iteration 65, loss = 0.00342601\n",
      "Iteration 66, loss = 0.00178347\n",
      "Iteration 67, loss = 0.00158580\n",
      "Iteration 68, loss = 0.00128491\n",
      "Iteration 69, loss = 0.00066665\n",
      "Iteration 70, loss = 0.00093242\n",
      "Iteration 71, loss = 0.00088015\n",
      "Iteration 72, loss = 0.00173048\n",
      "Iteration 73, loss = 0.00466189\n",
      "Iteration 74, loss = 0.00199217\n",
      "Iteration 75, loss = 0.00150951\n",
      "Iteration 76, loss = 0.00260302\n",
      "Iteration 77, loss = 0.00287548\n",
      "Iteration 78, loss = 0.00500573\n",
      "Iteration 79, loss = 0.00394317\n",
      "Iteration 80, loss = 0.00651778\n",
      "Iteration 81, loss = 0.00239620\n",
      "Iteration 82, loss = 0.00420616\n",
      "Iteration 83, loss = 0.00557589\n",
      "Iteration 84, loss = 0.00388691\n",
      "Iteration 85, loss = 0.00342070\n",
      "Iteration 86, loss = 0.00281401\n",
      "Iteration 87, loss = 0.00327439\n",
      "Iteration 88, loss = 0.00181984\n",
      "Iteration 89, loss = 0.00239921\n",
      "Iteration 90, loss = 0.00117797\n",
      "Training loss did not improve more than tol=0.000100 for 20 consecutive epochs. Stopping.\n"
     ]
    },
    {
     "data": {
      "text/plain": [
       "MLPClassifier(activation='relu', alpha=0.0001, batch_size='auto', beta_1=0.9,\n",
       "              beta_2=0.999, early_stopping=False, epsilon=1e-08,\n",
       "              hidden_layer_sizes=(100, 100, 100), learning_rate='constant',\n",
       "              learning_rate_init=0.001, max_iter=300, momentum=0.9,\n",
       "              n_iter_no_change=20, nesterovs_momentum=True, power_t=0.5,\n",
       "              random_state=None, shuffle=True, solver='adam', tol=0.0001,\n",
       "              validation_fraction=0.1, verbose=True, warm_start=False)"
      ]
     },
     "execution_count": 120,
     "metadata": {},
     "output_type": "execute_result"
    }
   ],
   "source": [
    "# 3-layer pereceptron \n",
    "mp = MLPClassifier(activation='relu', alpha=0.0001, batch_size='auto', beta_1=0.9,\n",
    "              beta_2=0.999, early_stopping=False, epsilon=1e-08,\n",
    "              hidden_layer_sizes=(100,100,100,), learning_rate='constant',\n",
    "              learning_rate_init=0.001, max_iter=300, momentum=0.9,\n",
    "              n_iter_no_change=20, nesterovs_momentum=True, power_t=0.5,\n",
    "              random_state=None, shuffle=True, solver='adam', tol=0.0001,\n",
    "              validation_fraction=0.1, verbose=True, warm_start=False)\n",
    "mp.fit(X_train_s, Y_train_d)"
   ]
  },
  {
   "cell_type": "code",
   "execution_count": 121,
   "metadata": {},
   "outputs": [
    {
     "name": "stdout",
     "output_type": "stream",
     "text": [
      "Multilayer Perceptron :Confusion matrix for train\n",
      "[[3823    0]\n",
      " [   0 2331]]\n",
      "Multilayer Perceptron :Confusion matrix for test\n",
      "[[1579   39]\n",
      " [  13 1007]]\n",
      "---- summary report ----\n",
      "              precision    recall  f1-score   support\n",
      "\n",
      "           0       0.99      0.98      0.98      1618\n",
      "           1       0.96      0.99      0.97      1020\n",
      "\n",
      "    accuracy                           0.98      2638\n",
      "   macro avg       0.98      0.98      0.98      2638\n",
      "weighted avg       0.98      0.98      0.98      2638\n",
      "\n"
     ]
    },
    {
     "data": {
      "image/png": "[encoded data removed]",
      "text/plain": [
       "<Figure size 432x288 with 1 Axes>"
      ]
     },
     "metadata": {
      "needs_background": "light"
     },
     "output_type": "display_data"
    }
   ],
   "source": [
    "get_results(mp, 'Multilayer Perceptron', X_train_s, Y_train_d, X_test_s, Y_test_d)"
   ]
  },
  {
   "cell_type": "markdown",
   "metadata": {},
   "source": [
    "## Comments"
   ]
  },
  {
   "cell_type": "markdown",
   "metadata": {},
   "source": [
    "The data set related to telecom industry including information on activation/diactiovation of a service. The dataset cosists of categorical, binary and continoius variables. In order to takle the problem of neural net with categorical variables, they are transformed in dummy version so that can be feeded to neural net, besides neural net is sensitive to varible scale, hence standarization is performed on data set after transfering categorical varibles. Checking the dataset there is no missing value, so no needed action. Plus dataset is somehow balanced in terms of number of observations for each class.\n",
    "In order to facilite the making reports for each model a fucntion is defined to produce the report giving information about model.\n",
    "The first model, Random Forest is implemented firstly with defualts settings, considering ROC curve the model is performed well on train with zero error, however 7% missclasification can be seen on test. It is the case of overfitting for Random Forest, but it uses several trees using voting system and overfitting is not a problem in this case. However changing the setting in order to get the close results for both test and train doesn't improve the test missclassifation.\n",
    "The second model Gradian boosting performs well on both train and test with 3% overall missclassification error on test and AUC is adjacent to 1 which is desirable.\n",
    "The third model is multilayer perceptron with 3 hiden layers with 100 neurons each, This model outperforms the others with only 2% error on test set.\n",
    "To recap, MLP performs better than Random Forest and Gradian Boosting, however the difference with Gradian Boosting is neglible. The final point is that the tuning parameters for each model is done using trail-error, however it can be done through cross validation that might be computionally more expensive, but may lead to better results for each model. "
   ]
  }
 ],
 "metadata": {
  "kernelspec": {
   "display_name": "Python 3",
   "language": "python",
   "name": "python3"
  },
  "language_info": {
   "codemirror_mode": {
    "name": "ipython",
    "version": 3
   },
   "file_extension": ".py",
   "mimetype": "text/x-python",
   "name": "python",
   "nbconvert_exporter": "python",
   "pygments_lexer": "ipython3",
   "version": "3.6.8"
  },
  "varInspector": {
   "cols": {
    "lenName": 16,
    "lenType": 16,
    "lenVar": 40
   },
   "kernels_config": {
    "python": {
     "delete_cmd_postfix": "",
     "delete_cmd_prefix": "del ",
     "library": "var_list.py",
     "varRefreshCmd": "print(var_dic_list())"
    },
    "r": {
     "delete_cmd_postfix": ") ",
     "delete_cmd_prefix": "rm(",
     "library": "var_list.r",
     "varRefreshCmd": "cat(var_dic_list()) "
    }
   },
   "types_to_exclude": [
    "module",
    "function",
    "builtin_function_or_method",
    "instance",
    "_Feature"
   ],
   "window_display": false
  }
 },
 "nbformat": 4,
 "nbformat_minor": 2
}
